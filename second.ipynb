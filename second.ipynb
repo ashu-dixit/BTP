{
 "cells": [
  {
   "cell_type": "code",
   "execution_count": 1,
   "metadata": {},
   "outputs": [],
   "source": [
    "from Utilities.io import DataLoader\n",
    "from Utilities.lossMetric import *\n",
    "from Utilities.trainVal import MinMaxGame\n",
    "from Models.RRDBNet import RRDBNet\n",
    "from Models.GAN import Discriminator"
   ]
  },
  {
   "cell_type": "markdown",
   "metadata": {},
   "source": [
    "### Load in the training dataset\n",
    "we used the Artificial Mercosur License Plates and Chinese City Parking Dataset for this project."
   ]
  },
  {
   "cell_type": "code",
   "execution_count": 3,
   "metadata": {},
   "outputs": [],
   "source": [
    "import numpy as np\n",
    "import glob\n",
    "PATH = 'Data/pre/192_96' # only use images with shape 192 by 96 for training\n",
    "files = glob.glob(PATH + '/*.jpg') * 3  # data augmentation, same image with different brightness and contrast\n",
    "np.random.shuffle(files)\n",
    "train, val = files[:int(len(files)*0.8)], files[int(len(files)*0.8):]\n",
    "loader = DataLoader()\n",
    "trainData = DataLoader().load(train, batchSize=16)\n",
    "valData = DataLoader().load(val, batchSize=64)"
   ]
  },
  {
   "cell_type": "code",
   "execution_count": 12,
   "metadata": {},
   "outputs": [
    {
     "data": {
      "text/plain": [
       "<PrefetchDataset element_spec=(TensorSpec(shape=(None, None, None, 3), dtype=tf.float32, name=None), TensorSpec(shape=(None, None, None, 3), dtype=tf.float32, name=None))>"
      ]
     },
     "execution_count": 12,
     "metadata": {},
     "output_type": "execute_result"
    }
   ],
   "source": [
    "valData"
   ]
  },
  {
   "cell_type": "markdown",
   "metadata": {},
   "source": [
    "### Training"
   ]
  },
  {
   "cell_type": "code",
   "execution_count": 4,
   "metadata": {},
   "outputs": [],
   "source": [
    "discriminator = Discriminator()\n",
    "extractor = buildExtractor()\n",
    "generator = RRDBNet(blockNum=10)"
   ]
  },
  {
   "cell_type": "code",
   "execution_count": 5,
   "metadata": {},
   "outputs": [
    {
     "name": "stdout",
     "output_type": "stream",
     "text": [
      "  6/300 [..............................] - ETA: 4:29:01 - loss: 3.0402 - psnr: 4.9814 - ssim: 0.0120"
     ]
    }
   ],
   "source": [
    "# loss function combines MAE loss with VGG loss\n",
    "def contentLoss(y_true, y_pred):\n",
    "    featurePred = extractor(y_pred)\n",
    "    feature = extractor(y_true)\n",
    "    mae = tf.reduce_mean(tfk.losses.mae(y_true, y_pred))\n",
    "    return 0.1*tf.reduce_mean(tfk.losses.mse(featurePred, feature)) + mae\n",
    "\n",
    "optimizer = tfk.optimizers.Adam(learning_rate=1e-3)\n",
    "generator.compile(loss=contentLoss, optimizer=optimizer, metrics=[psnr, ssim])\n",
    "# epoch set to 20 is good\n",
    "# When the model reaches PSNR=20/ssim=0.65, we can start the min-max game\n",
    "history = generator.fit(x=trainData, validation_data=valData, epochs=1, steps_per_epoch=300, validation_steps=100)"
   ]
  },
  {
   "cell_type": "markdown",
   "metadata": {},
   "source": [
    "### Generative adverserial network training"
   ]
  },
  {
   "cell_type": "code",
   "execution_count": 6,
   "metadata": {},
   "outputs": [
    {
     "data": {
      "application/vnd.jupyter.widget-view+json": {
       "model_id": "9f22b53e2d6f411681e4657286eaf7d5",
       "version_major": 2,
       "version_minor": 0
      },
      "text/plain": [
       "HBox(children=(FloatProgress(value=0.0, max=500.0), HTML(value='')))"
      ]
     },
     "metadata": {},
     "output_type": "display_data"
    },
    {
     "name": "stdout",
     "output_type": "stream",
     "text": [
      "\n"
     ]
    },
    {
     "data": {
      "application/vnd.jupyter.widget-view+json": {
       "model_id": "d485872accfe4f8fa51cda81ad53b5f6",
       "version_major": 2,
       "version_minor": 0
      },
      "text/plain": [
       "HBox(children=(FloatProgress(value=0.0), HTML(value='')))"
      ]
     },
     "metadata": {},
     "output_type": "display_data"
    },
    {
     "name": "stdout",
     "output_type": "stream",
     "text": [
      "\n"
     ]
    }
   ],
   "source": [
    "PARAMS = dict(lrGenerator = 1e-4, \n",
    "              lrDiscriminator = 1e-4,\n",
    "              epochs = 1, \n",
    "              stepsPerEpoch = 500, \n",
    "              valSteps = 100)\n",
    "game = MinMaxGame(generator, discriminator, extractor)\n",
    "log, valLog = game.train(trainData, valData, PARAMS)"
   ]
  },
  {
   "cell_type": "markdown",
   "metadata": {},
   "source": [
    "### Save the model\n",
    "Because I defined the model as inherited class of tf keras model, they cannot be safely serialized.  \n",
    "Therefore, please save the weights only and follow the instructions in tutorial 1 to reload the model  \n",
    "You can found my pretrained model in the *Pretrained* folder"
   ]
  },
  {
   "cell_type": "code",
   "execution_count": 7,
   "metadata": {},
   "outputs": [],
   "source": [
    "#generator.save_weights(YOUR_PATH), save_format='tf')"
   ]
  },
  {
   "cell_type": "code",
   "execution_count": null,
   "metadata": {},
   "outputs": [],
   "source": []
  }
 ],
 "metadata": {
  "kernelspec": {
   "display_name": "Python 3",
   "language": "python",
   "name": "python3"
  },
  "language_info": {
   "codemirror_mode": {
    "name": "ipython",
    "version": 3
   },
   "file_extension": ".py",
   "mimetype": "text/x-python",
   "name": "python",
   "nbconvert_exporter": "python",
   "pygments_lexer": "ipython3",
   "version": "3.9.2"
  }
 },
 "nbformat": 4,
 "nbformat_minor": 4
}
